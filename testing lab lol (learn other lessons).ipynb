{
 "cells": [
  {
   "cell_type": "code",
   "execution_count": 1,
   "metadata": {},
   "outputs": [],
   "source": [
    "import requests"
   ]
  },
  {
   "cell_type": "code",
   "execution_count": 2,
   "metadata": {},
   "outputs": [],
   "source": [
    "response = requests.get(\"http://api.open-notify.org/astros.json\")"
   ]
  },
  {
   "cell_type": "code",
   "execution_count": 3,
   "metadata": {
    "scrolled": true
   },
   "outputs": [
    {
     "name": "stdout",
     "output_type": "stream",
     "text": [
      "b'{\"message\": \"success\", \"number\": 5, \"people\": [{\"craft\": \"ISS\", \"name\": \"Chris Cassidy\"}, {\"craft\": \"ISS\", \"name\": \"Anatoly Ivanishin\"}, {\"craft\": \"ISS\", \"name\": \"Ivan Vagner\"}, {\"craft\": \"ISS\", \"name\": \"Doug Hurley\"}, {\"craft\": \"ISS\", \"name\": \"Bob Behnken\"}]}'\n"
     ]
    }
   ],
   "source": [
    "print(response.content)"
   ]
  },
  {
   "cell_type": "code",
   "execution_count": 4,
   "metadata": {},
   "outputs": [
    {
     "name": "stdout",
     "output_type": "stream",
     "text": [
      "b'{\"message\": \"success\", \"number\": 5, \"people\": [{\"craft\": \"ISS\", \"name\": \"Chris Cassidy\"}, {\"craft\": \"ISS\", \"name\": \"Anatoly Ivanishin\"}, {\"craft\": \"ISS\", \"name\": \"Ivan Vagner\"}, {\"craft\": \"ISS\", \"name\": \"Doug Hurley\"}, {\"craft\": \"ISS\", \"name\": \"Bob Behnken\"}]}'\n"
     ]
    }
   ],
   "source": [
    "print(response.content)"
   ]
  },
  {
   "cell_type": "code",
   "execution_count": null,
   "metadata": {},
   "outputs": [],
   "source": [
    "no. of people on ISS: 10\n",
    "name of people on the ISS:\n",
    "    Chris Cassidy\n",
    "    Anatoly Ivanishin\n",
    "    Ivan Vagner\n",
    "    Doug Hurley\n",
    "    Bob Behnkenno\n",
    "    Chris Cassidy\n",
    "    Anatoly Ivanishin\n",
    "    Ivan Vagner\n",
    "    Doug Hurley\n",
    "    Bob Behnken"
   ]
  },
  {
   "cell_type": "code",
   "execution_count": null,
   "metadata": {},
   "outputs": [],
   "source": [
    "def length () \n",
    "        while (x=!)"
   ]
  },
  {
   "cell_type": "code",
   "execution_count": null,
   "metadata": {},
   "outputs": [],
   "source": []
  },
  {
   "cell_type": "code",
   "execution_count": null,
   "metadata": {},
   "outputs": [],
   "source": []
  },
  {
   "cell_type": "code",
   "execution_count": 12,
   "metadata": {},
   "outputs": [
    {
     "name": "stdout",
     "output_type": "stream",
     "text": [
      "Number of items in the list =  5\n"
     ]
    }
   ],
   "source": [
    "ListName = [\"Hello\", \"Edureka\", 1, 2, 3]\n",
    "print (\"Number of items in the list = \", len(ListName))"
   ]
  },
  {
   "cell_type": "code",
   "execution_count": null,
   "metadata": {},
   "outputs": [],
   "source": [
    "ListName = [ \"Hello\", \"Edureka\", 1,2,3 ]\n",
    "print (\"The list is : \" + str(ListName))\n",
    "counter = 0\n",
    "for i in ListName:\n",
    "        counter = counter + 1\n",
    "        print (\"Length of list using naive method is : \" + str(counter))"
   ]
  }
 ],
 "metadata": {
  "kernelspec": {
   "display_name": "Python 3",
   "language": "python",
   "name": "python3"
  },
  "language_info": {
   "codemirror_mode": {
    "name": "ipython",
    "version": 3
   },
   "file_extension": ".py",
   "mimetype": "text/x-python",
   "name": "python",
   "nbconvert_exporter": "python",
   "pygments_lexer": "ipython3",
   "version": "3.7.6"
  }
 },
 "nbformat": 4,
 "nbformat_minor": 4
}
